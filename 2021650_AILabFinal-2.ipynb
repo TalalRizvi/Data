{
  "cells": [
    {
      "cell_type": "code",
      "execution_count": null,
      "metadata": {
        "id": "FZEgLWF0Z5Xl"
      },
      "outputs": [],
      "source": [
        "import pandas as pd\n",
        "from sklearn.feature_extraction.text import TfidfVectorizer\n",
        "from sklearn.model_selection import train_test_split\n",
        "from sklearn.neighbors import KNeighborsClassifier\n",
        "from sklearn.naive_bayes import MultinomialNB\n",
        "from sklearn.ensemble import RandomForestClassifier\n",
        "from sklearn.metrics import accuracy_score"
      ]
    },
    {
      "cell_type": "code",
      "execution_count": null,
      "metadata": {
        "id": "iTiXU8IMaLKr"
      },
      "outputs": [],
      "source": [
        "# Load a subset of the dataset\n",
        "df = pd.read_csv('/content/chatgpt1.csv', nrows=10000)  # Load the first 10,000 rows from the dataset"
      ]
    },
    {
      "cell_type": "code",
      "execution_count": null,
      "metadata": {
        "id": "yEpHDt1EaXU-"
      },
      "outputs": [],
      "source": [
        "# Sentiment Analysis\n",
        "X_sentiment = df['Text']\n",
        "y_sentiment = df['Username']  # Replace 'Sentiment' with the actual column name for sentiment labels"
      ]
    },
    {
      "cell_type": "code",
      "execution_count": null,
      "metadata": {
        "id": "W92-YG5jbOJe"
      },
      "outputs": [],
      "source": [
        "# Split the dataset into a training set and a testing set\n",
        "X_train_sentiment, X_test_sentiment, y_train_sentiment, y_test_sentiment = train_test_split(\n",
        "    X_sentiment, y_sentiment, test_size=0.2, random_state=42\n",
        ")"
      ]
    },
    {
      "cell_type": "code",
      "execution_count": null,
      "metadata": {
        "id": "T_9Z1kxDbRFi"
      },
      "outputs": [],
      "source": [
        "# Vectorize the text data using sparse matrix representation\n",
        "vectorizer = TfidfVectorizer()\n",
        "X_train_sentiment_vectorized = vectorizer.fit_transform(X_train_sentiment)\n",
        "X_test_sentiment_vectorized = vectorizer.transform(X_test_sentiment)"
      ]
    },
    {
      "cell_type": "code",
      "execution_count": null,
      "metadata": {
        "colab": {
          "base_uri": "https://localhost:8080/"
        },
        "id": "lcroR9a7bU08",
        "outputId": "e6a9934d-457c-48f2-b2b9-35bfbaa3f4cc"
      },
      "outputs": [
        {
          "name": "stdout",
          "output_type": "stream",
          "text": [
            "KNN Results:\n",
            "Accuracy: 0.031\n",
            "---\n",
            "Naive Bayes Results:\n",
            "Accuracy: 0.007\n",
            "---\n"
          ]
        }
      ],
      "source": [
        "# Train and evaluate supervised machine learning models for sentiment analysis\n",
        "models = {\n",
        "    'KNN': KNeighborsClassifier(),\n",
        "    'Naive Bayes': MultinomialNB(),\n",
        "    'Random Forest': RandomForestClassifier()\n",
        "}\n",
        "\n",
        "for model_name, model in models.items():\n",
        "    model.fit(X_train_sentiment_vectorized, y_train_sentiment)\n",
        "    y_pred_sentiment = model.predict(X_test_sentiment_vectorized)\n",
        "    accuracy = accuracy_score(y_test_sentiment, y_pred_sentiment)\n",
        "    print(f'{model_name} Results:')\n",
        "    print(f'Accuracy: {accuracy}')\n",
        "    print('---')"
      ]
    },
    {
      "cell_type": "code",
      "execution_count": null,
      "metadata": {
        "id": "gepTxLi0bill"
      },
      "outputs": [],
      "source": [
        "# User Classification\n",
        "X_user = df['Text']\n",
        "y_user = df['Username']  # Replace 'User ID' with the actual column name for user IDs"
      ]
    },
    {
      "cell_type": "code",
      "execution_count": null,
      "metadata": {
        "id": "DRpr_tuXcn6L"
      },
      "outputs": [],
      "source": [
        "# Split the dataset into a training set and a testing set\n",
        "X_train_user, X_test_user, y_train_user, y_test_user = train_test_split(\n",
        "    X_user, y_user, test_size=0.2, random_state=42\n",
        ")"
      ]
    },
    {
      "cell_type": "code",
      "execution_count": null,
      "metadata": {
        "id": "RE-C78yfcpuA"
      },
      "outputs": [],
      "source": [
        "# Vectorize the text data using sparse matrix representation\n",
        "vectorizer = TfidfVectorizer()\n",
        "X_train_user_vectorized = vectorizer.fit_transform(X_train_user)\n",
        "X_test_user_vectorized = vectorizer.transform(X_test_user)"
      ]
    },
    {
      "cell_type": "code",
      "execution_count": null,
      "metadata": {
        "colab": {
          "base_uri": "https://localhost:8080/"
        },
        "id": "UEd1kmyscuOX",
        "outputId": "a4501542-6c2a-4acc-95ba-0049b0b6b99a"
      },
      "outputs": [
        {
          "name": "stdout",
          "output_type": "stream",
          "text": [
            "KNN Results:\n",
            "Accuracy: 0.031\n",
            "---\n"
          ]
        }
      ],
      "source": [
        "# Train and evaluate supervised machine learning models for user classification\n",
        "models = {\n",
        "    'KNN': KNeighborsClassifier(),\n",
        "    #'Random Forest': RandomForestClassifier()\n",
        "}\n",
        "\n",
        "for model_name, model in models.items():\n",
        "    model.fit(X_train_user_vectorized, y_train_user)\n",
        "    y_pred_user = model.predict(X_test_user_vectorized)\n",
        "    accuracy = accuracy_score(y_test_user, y_pred_user)\n",
        "    print(f'{model_name} Results:')\n",
        "    print(f'Accuracy: {accuracy}')\n",
        "    print('---')"
      ]
    },
    {
      "cell_type": "code",
      "execution_count": null,
      "metadata": {
        "id": "EmtsE_OsdImW"
      },
      "outputs": [],
      "source": [
        "# Clustering\n",
        "X_clustering = df['Text']"
      ]
    },
    {
      "cell_type": "code",
      "execution_count": null,
      "metadata": {
        "id": "MjLm-jyAdLL8"
      },
      "outputs": [],
      "source": [
        "# Vectorize the text data using sparse matrix representation\n",
        "vectorizer = TfidfVectorizer()\n",
        "X_clustering_vectorized = vectorizer.fit_transform(X_clustering)"
      ]
    },
    {
      "cell_type": "code",
      "execution_count": null,
      "metadata": {
        "colab": {
          "base_uri": "https://localhost:8080/",
          "height": 218
        },
        "id": "A3Fx_655dP4f",
        "outputId": "9524e2ea-6f09-4d9b-b87a-fdb4a47f7179"
      },
      "outputs": [
        {
          "ename": "NameError",
          "evalue": "ignored",
          "output_type": "error",
          "traceback": [
            "\u001b[0;31m---------------------------------------------------------------------------\u001b[0m",
            "\u001b[0;31mNameError\u001b[0m                                 Traceback (most recent call last)",
            "\u001b[0;32m<ipython-input-24-bc24d0d6dfd0>\u001b[0m in \u001b[0;36m<cell line: 3>\u001b[0;34m()\u001b[0m\n\u001b[1;32m      1\u001b[0m \u001b[0;31m# Apply K-Means clustering\u001b[0m\u001b[0;34m\u001b[0m\u001b[0;34m\u001b[0m\u001b[0m\n\u001b[1;32m      2\u001b[0m \u001b[0mnum_clusters\u001b[0m \u001b[0;34m=\u001b[0m \u001b[0;36m3\u001b[0m  \u001b[0;31m# Replace with the desired number of clusters\u001b[0m\u001b[0;34m\u001b[0m\u001b[0;34m\u001b[0m\u001b[0m\n\u001b[0;32m----> 3\u001b[0;31m \u001b[0mkmeans\u001b[0m \u001b[0;34m=\u001b[0m \u001b[0mkMeans\u001b[0m\u001b[0;34m(\u001b[0m\u001b[0mn_clusters\u001b[0m\u001b[0;34m=\u001b[0m\u001b[0mnum_clusters\u001b[0m\u001b[0;34m)\u001b[0m\u001b[0;34m\u001b[0m\u001b[0;34m\u001b[0m\u001b[0m\n\u001b[0m\u001b[1;32m      4\u001b[0m \u001b[0mkmeans\u001b[0m\u001b[0;34m.\u001b[0m\u001b[0mfit\u001b[0m\u001b[0;34m(\u001b[0m\u001b[0mX_clustering_vectorized\u001b[0m\u001b[0;34m)\u001b[0m\u001b[0;34m\u001b[0m\u001b[0;34m\u001b[0m\u001b[0m\n",
            "\u001b[0;31mNameError\u001b[0m: name 'kMeans' is not defined"
          ]
        }
      ],
      "source": [
        "# Apply K-Means clustering\n",
        "num_clusters = 3  # Replace with the desired number of clusters\n",
        "kmeans = KMeans(n_clusters=num_clusters)\n",
        "kmeans.fit(X_clustering_vectorized)"
      ]
    },
    {
      "cell_type": "code",
      "execution_count": null,
      "metadata": {
        "colab": {
          "base_uri": "https://localhost:8080/",
          "height": 236
        },
        "id": "xX1BA7nRdV0L",
        "outputId": "f21b4d10-cbed-42be-fcaf-39519812d8cf"
      },
      "outputs": [
        {
          "ename": "NameError",
          "evalue": "ignored",
          "output_type": "error",
          "traceback": [
            "\u001b[0;31m---------------------------------------------------------------------------\u001b[0m",
            "\u001b[0;31mNameError\u001b[0m                                 Traceback (most recent call last)",
            "\u001b[0;32m<ipython-input-25-b22698fe85e4>\u001b[0m in \u001b[0;36m<cell line: 2>\u001b[0;34m()\u001b[0m\n\u001b[1;32m      1\u001b[0m \u001b[0;31m# Print cluster labels for each tweet\u001b[0m\u001b[0;34m\u001b[0m\u001b[0;34m\u001b[0m\u001b[0m\n\u001b[0;32m----> 2\u001b[0;31m \u001b[0mcluster_labels\u001b[0m \u001b[0;34m=\u001b[0m \u001b[0mkmeans\u001b[0m\u001b[0;34m.\u001b[0m\u001b[0mlabels_\u001b[0m\u001b[0;34m\u001b[0m\u001b[0;34m\u001b[0m\u001b[0m\n\u001b[0m\u001b[1;32m      3\u001b[0m \u001b[0mprint\u001b[0m\u001b[0;34m(\u001b[0m\u001b[0;34m'Cluster Labels:'\u001b[0m\u001b[0;34m)\u001b[0m\u001b[0;34m\u001b[0m\u001b[0;34m\u001b[0m\u001b[0m\n\u001b[1;32m      4\u001b[0m \u001b[0;32mfor\u001b[0m \u001b[0mi\u001b[0m\u001b[0;34m,\u001b[0m \u001b[0mlabel\u001b[0m \u001b[0;32min\u001b[0m \u001b[0menumerate\u001b[0m\u001b[0;34m(\u001b[0m\u001b[0mcluster_labels\u001b[0m\u001b[0;34m)\u001b[0m\u001b[0;34m:\u001b[0m\u001b[0;34m\u001b[0m\u001b[0;34m\u001b[0m\u001b[0m\n\u001b[1;32m      5\u001b[0m     \u001b[0mprint\u001b[0m\u001b[0;34m(\u001b[0m\u001b[0;34mf'Tweet {i+1}: Cluster {label}'\u001b[0m\u001b[0;34m)\u001b[0m\u001b[0;34m\u001b[0m\u001b[0;34m\u001b[0m\u001b[0m\n",
            "\u001b[0;31mNameError\u001b[0m: name 'kmeans' is not defined"
          ]
        }
      ],
      "source": [
        "# Print cluster labels for each tweet\n",
        "cluster_labels = kmeans.labels_\n",
        "print('Cluster Labels:')\n",
        "for i, label in enumerate(cluster_labels):\n",
        "    print(f'Tweet {i+1}: Cluster {label}')"
      ]
    },
    {
      "cell_type": "code",
      "execution_count": null,
      "metadata": {
        "id": "JB7WdktvdZZ0"
      },
      "outputs": [],
      "source": [
        "# Engagement Prediction\n",
        "X_engagement = df['Text']\n",
        "y_retweets = df['RetweetCount']\n",
        "y_likes = df['LikeCount'] \n",
        "y_replies = df['ReplyCount'] "
      ]
    },
    {
      "cell_type": "code",
      "execution_count": null,
      "metadata": {
        "id": "1r94Cyh7eGZ_"
      },
      "outputs": [],
      "source": [
        "# Split the dataset into a training set and a testing set\n",
        "X_train_engagement, X_test_engagement, y_train_retweets, y_test_retweets, y_train_likes, y_test_likes, y_train_replies, y_test_replies = train_test_split(\n",
        "    X_engagement, y_retweets, y_likes, y_replies, test_size=0.2, random_state=42\n",
        ")"
      ]
    },
    {
      "cell_type": "code",
      "execution_count": null,
      "metadata": {
        "id": "d-H7bMWBeLmj"
      },
      "outputs": [],
      "source": [
        "# Vectorize the text data\n",
        "vectorizer = TfidfVectorizer()\n",
        "X_train_engagement_vectorized = vectorizer.fit_transform(X_train_engagement)\n",
        "X_test_engagement_vectorized = vectorizer.transform(X_test_engagement)"
      ]
    },
    {
      "cell_type": "code",
      "execution_count": null,
      "metadata": {
        "id": "oUePA0GFeRbw"
      },
      "outputs": [],
      "source": [
        "# Train and evaluate supervised machine learning models for engagement prediction\n",
        "models = {\n",
        "    'KNN for Retweets': KNeighborsClassifier(),\n",
        "    'Naive Bayes for Retweets': MultinomialNB(),\n",
        "    'Random Forest for Retweets': RandomForestClassifier(),\n",
        "    'KNN for Likes': KNeighborsClassifier(),\n",
        "    'Naive Bayes for Likes': MultinomialNB(),\n",
        "    'Random Forest for Likes': RandomForestClassifier(),\n",
        "    'KNN for Replies': KNeighborsClassifier(),\n",
        "    'Naive Bayes for Replies': MultinomialNB(),\n",
        "    'Random Forest for Replies': RandomForestClassifier()\n",
        "}\n",
        "\n",
        "for model_name, model in models.items():\n",
        "    if 'Retweets' in model_name:\n",
        "        model.fit(X_train_engagement_vectorized, y_train_retweets)\n",
        "        y_pred_retweets = model.predict(X_test_engagement_vectorized)\n",
        "        accuracy = accuracy_score(y_test_retweets, y_pred_retweets)\n",
        "        print(f'{model_name} Results for Retweets:')\n",
        "        print(f'Accuracy: {accuracy}')\n",
        "    elif 'Likes' in model_name:\n",
        "        model.fit(X_train_engagement_vectorized, y_train_likes)\n",
        "        y_pred_likes = model.predict(X_test_engagement_vectorized)\n",
        "        accuracy = accuracy_score(y_test_likes, y_pred_likes)\n",
        "        print(f'{model_name} Results for Likes:')\n",
        "        print(f'Accuracy: {accuracy}')\n",
        "    elif 'Replies' in model_name:\n",
        "        model.fit(X_train_engagement_vectorized, y_train_replies)\n",
        "        y_pred_replies = model.predict(X_test_engagement_vectorized)\n",
        "        accuracy = accuracy_score(y_test_replies, y_pred_replies)\n",
        "        print(f'{model_name} Results for Replies:')\n",
        "        print(f'Accuracy: {accuracy}')\n",
        "    print('---')"
      ]
    },
    {
      "cell_type": "code",
      "execution_count": null,
      "metadata": {
        "id": "Srll2EOdjJwr"
      },
      "outputs": [],
      "source": []
    },
    {
      "cell_type": "code",
      "execution_count": null,
      "metadata": {
        "id": "nC9R_vXsjKSx"
      },
      "outputs": [],
      "source": [
        "import pandas as pd\n",
        "from sklearn.feature_extraction.text import TfidfVectorizer\n",
        "from sklearn.model_selection import train_test_split\n",
        "from sklearn.neighbors import KNeighborsClassifier\n",
        "from sklearn.naive_bayes import MultinomialNB\n",
        "from sklearn.ensemble import RandomForestClassifier\n",
        "from sklearn.tree import DecisionTreeClassifier\n",
        "from sklearn.cluster import MiniBatchKMeans\n",
        "from sklearn.metrics import accuracy_score, precision_score, recall_score, f1_score\n",
        "from sklearn.preprocessing import LabelEncoder"
      ]
    },
    {
      "cell_type": "code",
      "execution_count": null,
      "metadata": {
        "id": "3IKU_o7VjOtR"
      },
      "outputs": [],
      "source": [
        "# Load the dataset into a DataFrame\n",
        "df = pd.read_csv('/content/chatgpt1.csv')"
      ]
    },
    {
      "cell_type": "code",
      "execution_count": null,
      "metadata": {
        "id": "Ji-w_WQ0jaqg"
      },
      "outputs": [],
      "source": [
        "# Sentiment Analysis\n",
        "# Define feature set and target variable\n",
        "X_sentiment = df['Text']\n",
        "y_sentiment = df['Username']  # Replace 'Sentiment' with the actual column name for sentiment labels"
      ]
    },
    {
      "cell_type": "code",
      "execution_count": null,
      "metadata": {
        "id": "crz23KUFjt10"
      },
      "outputs": [],
      "source": [
        "# Split the dataset into a training set and a testing set\n",
        "X_train_sentiment, X_test_sentiment, y_train_sentiment, y_test_sentiment = train_test_split(X_sentiment, y_sentiment, test_size=0.2, random_state=42)\n",
        "\n",
        "# Vectorize the text data\n",
        "vectorizer = TfidfVectorizer()\n",
        "X_train_sentiment_vectorized = vectorizer.fit_transform(X_train_sentiment)\n",
        "X_test_sentiment_vectorized = vectorizer.transform(X_test_sentiment)"
      ]
    },
    {
      "cell_type": "code",
      "execution_count": null,
      "metadata": {
        "colab": {
          "base_uri": "https://localhost:8080/",
          "height": 416
        },
        "id": "0flL1Vsgj5KL",
        "outputId": "839fe1b9-753b-4d80-ec2b-0e4754d631c6"
      },
      "outputs": [
        {
          "ename": "KeyboardInterrupt",
          "evalue": "ignored",
          "output_type": "error",
          "traceback": [
            "\u001b[0;31m---------------------------------------------------------------------------\u001b[0m",
            "\u001b[0;31mKeyboardInterrupt\u001b[0m                         Traceback (most recent call last)",
            "\u001b[0;32m<ipython-input-5-4866cc014c7b>\u001b[0m in \u001b[0;36m<cell line: 6>\u001b[0;34m()\u001b[0m\n\u001b[1;32m      4\u001b[0m \u001b[0mknn\u001b[0m \u001b[0;34m=\u001b[0m \u001b[0mKNeighborsClassifier\u001b[0m\u001b[0;34m(\u001b[0m\u001b[0;34m)\u001b[0m\u001b[0;34m\u001b[0m\u001b[0;34m\u001b[0m\u001b[0m\n\u001b[1;32m      5\u001b[0m \u001b[0mknn\u001b[0m\u001b[0;34m.\u001b[0m\u001b[0mfit\u001b[0m\u001b[0;34m(\u001b[0m\u001b[0mX_train_sentiment_vectorized\u001b[0m\u001b[0;34m,\u001b[0m \u001b[0my_train_sentiment\u001b[0m\u001b[0;34m)\u001b[0m\u001b[0;34m\u001b[0m\u001b[0;34m\u001b[0m\u001b[0m\n\u001b[0;32m----> 6\u001b[0;31m \u001b[0my_pred_knn\u001b[0m \u001b[0;34m=\u001b[0m \u001b[0mknn\u001b[0m\u001b[0;34m.\u001b[0m\u001b[0mpredict\u001b[0m\u001b[0;34m(\u001b[0m\u001b[0mX_test_sentiment_vectorized\u001b[0m\u001b[0;34m)\u001b[0m\u001b[0;34m\u001b[0m\u001b[0;34m\u001b[0m\u001b[0m\n\u001b[0m\u001b[1;32m      7\u001b[0m \u001b[0maccuracy_knn\u001b[0m \u001b[0;34m=\u001b[0m \u001b[0maccuracy_score\u001b[0m\u001b[0;34m(\u001b[0m\u001b[0my_test_sentiment\u001b[0m\u001b[0;34m,\u001b[0m \u001b[0my_pred_knn\u001b[0m\u001b[0;34m)\u001b[0m\u001b[0;34m\u001b[0m\u001b[0;34m\u001b[0m\u001b[0m\n\u001b[1;32m      8\u001b[0m \u001b[0mprecision_knn\u001b[0m \u001b[0;34m=\u001b[0m \u001b[0mprecision_score\u001b[0m\u001b[0;34m(\u001b[0m\u001b[0my_test_sentiment\u001b[0m\u001b[0;34m,\u001b[0m \u001b[0my_pred_knn\u001b[0m\u001b[0;34m,\u001b[0m \u001b[0maverage\u001b[0m\u001b[0;34m=\u001b[0m\u001b[0;34m'weighted'\u001b[0m\u001b[0;34m)\u001b[0m\u001b[0;34m\u001b[0m\u001b[0;34m\u001b[0m\u001b[0m\n",
            "\u001b[0;32m/usr/local/lib/python3.10/dist-packages/sklearn/neighbors/_classification.py\u001b[0m in \u001b[0;36mpredict\u001b[0;34m(self, X)\u001b[0m\n\u001b[1;32m    232\u001b[0m             \u001b[0;31m# In that case, we do not need the distances to perform\u001b[0m\u001b[0;34m\u001b[0m\u001b[0;34m\u001b[0m\u001b[0m\n\u001b[1;32m    233\u001b[0m             \u001b[0;31m# the weighting so we do not compute them.\u001b[0m\u001b[0;34m\u001b[0m\u001b[0;34m\u001b[0m\u001b[0m\n\u001b[0;32m--> 234\u001b[0;31m             \u001b[0mneigh_ind\u001b[0m \u001b[0;34m=\u001b[0m \u001b[0mself\u001b[0m\u001b[0;34m.\u001b[0m\u001b[0mkneighbors\u001b[0m\u001b[0;34m(\u001b[0m\u001b[0mX\u001b[0m\u001b[0;34m,\u001b[0m \u001b[0mreturn_distance\u001b[0m\u001b[0;34m=\u001b[0m\u001b[0;32mFalse\u001b[0m\u001b[0;34m)\u001b[0m\u001b[0;34m\u001b[0m\u001b[0;34m\u001b[0m\u001b[0m\n\u001b[0m\u001b[1;32m    235\u001b[0m             \u001b[0mneigh_dist\u001b[0m \u001b[0;34m=\u001b[0m \u001b[0;32mNone\u001b[0m\u001b[0;34m\u001b[0m\u001b[0;34m\u001b[0m\u001b[0m\n\u001b[1;32m    236\u001b[0m         \u001b[0;32melse\u001b[0m\u001b[0;34m:\u001b[0m\u001b[0;34m\u001b[0m\u001b[0;34m\u001b[0m\u001b[0m\n",
            "\u001b[0;32m/usr/local/lib/python3.10/dist-packages/sklearn/neighbors/_base.py\u001b[0m in \u001b[0;36mkneighbors\u001b[0;34m(self, X, n_neighbors, return_distance)\u001b[0m\n\u001b[1;32m    822\u001b[0m         )\n\u001b[1;32m    823\u001b[0m         \u001b[0;32mif\u001b[0m \u001b[0muse_pairwise_distances_reductions\u001b[0m\u001b[0;34m:\u001b[0m\u001b[0;34m\u001b[0m\u001b[0;34m\u001b[0m\u001b[0m\n\u001b[0;32m--> 824\u001b[0;31m             results = ArgKmin.compute(\n\u001b[0m\u001b[1;32m    825\u001b[0m                 \u001b[0mX\u001b[0m\u001b[0;34m=\u001b[0m\u001b[0mX\u001b[0m\u001b[0;34m,\u001b[0m\u001b[0;34m\u001b[0m\u001b[0;34m\u001b[0m\u001b[0m\n\u001b[1;32m    826\u001b[0m                 \u001b[0mY\u001b[0m\u001b[0;34m=\u001b[0m\u001b[0mself\u001b[0m\u001b[0;34m.\u001b[0m\u001b[0m_fit_X\u001b[0m\u001b[0;34m,\u001b[0m\u001b[0;34m\u001b[0m\u001b[0;34m\u001b[0m\u001b[0m\n",
            "\u001b[0;32m/usr/local/lib/python3.10/dist-packages/sklearn/metrics/_pairwise_distances_reduction/_dispatcher.py\u001b[0m in \u001b[0;36mcompute\u001b[0;34m(cls, X, Y, k, metric, chunk_size, metric_kwargs, strategy, return_distance)\u001b[0m\n\u001b[1;32m    275\u001b[0m         \"\"\"\n\u001b[1;32m    276\u001b[0m         \u001b[0;32mif\u001b[0m \u001b[0mX\u001b[0m\u001b[0;34m.\u001b[0m\u001b[0mdtype\u001b[0m \u001b[0;34m==\u001b[0m \u001b[0mY\u001b[0m\u001b[0;34m.\u001b[0m\u001b[0mdtype\u001b[0m \u001b[0;34m==\u001b[0m \u001b[0mnp\u001b[0m\u001b[0;34m.\u001b[0m\u001b[0mfloat64\u001b[0m\u001b[0;34m:\u001b[0m\u001b[0;34m\u001b[0m\u001b[0;34m\u001b[0m\u001b[0m\n\u001b[0;32m--> 277\u001b[0;31m             return ArgKmin64.compute(\n\u001b[0m\u001b[1;32m    278\u001b[0m                 \u001b[0mX\u001b[0m\u001b[0;34m=\u001b[0m\u001b[0mX\u001b[0m\u001b[0;34m,\u001b[0m\u001b[0;34m\u001b[0m\u001b[0;34m\u001b[0m\u001b[0m\n\u001b[1;32m    279\u001b[0m                 \u001b[0mY\u001b[0m\u001b[0;34m=\u001b[0m\u001b[0mY\u001b[0m\u001b[0;34m,\u001b[0m\u001b[0;34m\u001b[0m\u001b[0;34m\u001b[0m\u001b[0m\n",
            "\u001b[0;32msklearn/metrics/_pairwise_distances_reduction/_argkmin.pyx\u001b[0m in \u001b[0;36msklearn.metrics._pairwise_distances_reduction._argkmin.ArgKmin64.compute\u001b[0;34m()\u001b[0m\n",
            "\u001b[0;32m/usr/local/lib/python3.10/dist-packages/threadpoolctl.py\u001b[0m in \u001b[0;36m__exit__\u001b[0;34m(self, type, value, traceback)\u001b[0m\n\u001b[1;32m    169\u001b[0m         \u001b[0;32mreturn\u001b[0m \u001b[0mself\u001b[0m\u001b[0;34m\u001b[0m\u001b[0;34m\u001b[0m\u001b[0m\n\u001b[1;32m    170\u001b[0m \u001b[0;34m\u001b[0m\u001b[0m\n\u001b[0;32m--> 171\u001b[0;31m     \u001b[0;32mdef\u001b[0m \u001b[0m__exit__\u001b[0m\u001b[0;34m(\u001b[0m\u001b[0mself\u001b[0m\u001b[0;34m,\u001b[0m \u001b[0mtype\u001b[0m\u001b[0;34m,\u001b[0m \u001b[0mvalue\u001b[0m\u001b[0;34m,\u001b[0m \u001b[0mtraceback\u001b[0m\u001b[0;34m)\u001b[0m\u001b[0;34m:\u001b[0m\u001b[0;34m\u001b[0m\u001b[0;34m\u001b[0m\u001b[0m\n\u001b[0m\u001b[1;32m    172\u001b[0m         \u001b[0mself\u001b[0m\u001b[0;34m.\u001b[0m\u001b[0mrestore_original_limits\u001b[0m\u001b[0;34m(\u001b[0m\u001b[0;34m)\u001b[0m\u001b[0;34m\u001b[0m\u001b[0;34m\u001b[0m\u001b[0m\n\u001b[1;32m    173\u001b[0m \u001b[0;34m\u001b[0m\u001b[0m\n",
            "\u001b[0;31mKeyboardInterrupt\u001b[0m: "
          ]
        }
      ],
      "source": [
        "from sklearn.metrics import accuracy_score, precision_score, recall_score, f1_score\n",
        "\n",
        "# Train and evaluate KNN\n",
        "knn = KNeighborsClassifier()\n",
        "knn.fit(X_train_sentiment_vectorized, y_train_sentiment)\n",
        "y_pred_knn = knn.predict(X_test_sentiment_vectorized)\n",
        "accuracy_knn = accuracy_score(y_test_sentiment, y_pred_knn)\n",
        "precision_knn = precision_score(y_test_sentiment, y_pred_knn, average='weighted')\n",
        "recall_knn = recall_score(y_test_sentiment, y_pred_knn, average='weighted')\n",
        "f1_knn = f1_score(y_test_sentiment, y_pred_knn, average='weighted')\n",
        "\n",
        "print('KNN Results:')\n",
        "print(f'Accuracy: {accuracy_knn}')\n",
        "print(f'Precision: {precision_knn}')\n",
        "print(f'Recall: {recall_knn}')\n",
        "print(f'F1-Score: {f1_knn}')\n",
        "print('---')"
      ]
    },
    {
      "cell_type": "code",
      "execution_count": null,
      "metadata": {
        "id": "_TGatWXfnSEA"
      },
      "outputs": [],
      "source": [
        "# Train and evaluate Naive Bayes\n",
        "naive_bayes = MultinomialNB()\n",
        "naive_bayes.fit(X_train_sentiment_vectorized, y_train_sentiment)\n",
        "y_pred_naive_bayes = naive_bayes.predict(X_test_sentiment_vectorized)\n",
        "accuracy_naive_bayes = accuracy_score(y_test_sentiment, y_pred_naive_bayes)\n",
        "precision_naive_bayes = precision_score(y_test_sentiment, y_pred_naive_bayes, average='weighted')\n",
        "recall_naive_bayes = recall_score(y_test_sentiment, y_pred_naive_bayes, average='weighted')\n",
        "f1_naive_bayes = f1_score(y_test_sentiment, y_pred_naive_bayes, average='weighted')\n",
        "\n",
        "print('Naive Bayes Results:')\n",
        "print(f'Accuracy: {accuracy_naive_bayes}')\n",
        "print(f'Precision: {precision_naive_bayes}')\n",
        "print(f'Recall: {recall_naive_bayes}')\n",
        "print(f'F1-Score: {f1_naive_bayes}')\n",
        "print('---')"
      ]
    },
    {
      "cell_type": "code",
      "execution_count": null,
      "metadata": {
        "id": "vVeIoSA1nbgW"
      },
      "outputs": [],
      "source": [
        "# Train and evaluate Random Forest\n",
        "random_forest = RandomForestClassifier()\n",
        "random_forest.fit(X_train_sentiment_vectorized, y_train_sentiment)\n",
        "y_pred_random_forest = random_forest.predict(X_test_sentiment_vectorized)\n",
        "accuracy_random_forest = accuracy_score(y_test_sentiment, y_pred_random_forest)\n",
        "precision_random_forest = precision_score(y_test_sentiment, y_pred_random_forest, average='weighted')\n",
        "recall_random_forest = recall_score(y_test_sentiment, y_pred_random_forest, average='weighted')\n",
        "f1_random_forest = f1_score(y_test_sentiment, y_pred_random_forest, average='weighted')\n",
        "\n",
        "print('Random Forest Results:')\n",
        "print(f'Accuracy: {accuracy_random_forest}')\n",
        "print(f'Precision: {precision_random_forest}')\n",
        "print(f'Recall: {recall_random_forest}')\n",
        "print(f'F1-Score: {f1_random_forest}')\n",
        "print('---')"
      ]
    },
    {
      "cell_type": "code",
      "execution_count": null,
      "metadata": {
        "id": "MFWnKgJ6nyiq"
      },
      "outputs": [],
      "source": [
        "# Train and evaluate Decision Tree\n",
        "decision_tree = DecisionTreeClassifier()\n",
        "decision_tree.fit(X_train_sentiment_vectorized, y_train_sentiment)\n",
        "y_pred_decision_tree = decision_tree.predict(X_test_sentiment_vectorized)\n",
        "accuracy_decision_tree = accuracy_score(y_test_sentiment, y_pred_decision_tree)\n",
        "precision_decision_tree = precision_score(y_test_sentiment, y_pred_decision_tree, average='weighted')\n",
        "recall_decision_tree = recall_score(y_test_sentiment, y_pred_decision_tree, average='weighted')\n",
        "f1_decision_tree = f1_score(y_test_sentiment, y_pred_decision_tree, average='weighted')\n",
        "\n",
        "print('Decision Tree Results:')\n",
        "print(f'Accuracy: {accuracy_decision_tree}')\n",
        "print(f'Precision: {precision_decision_tree}')\n",
        "print(f'Recall: {recall_decision_tree}')\n",
        "print(f'F1-Score: {f1_decision_tree}')\n",
        "print('---')"
      ]
    },
    {
      "cell_type": "code",
      "execution_count": null,
      "metadata": {
        "id": "GTN2qW54n3Pq"
      },
      "outputs": [],
      "source": []
    },
    {
      "cell_type": "markdown",
      "metadata": {
        "id": "wvt4R68xumMa"
      },
      "source": [
        "2.User **Classification**"
      ]
    },
    {
      "cell_type": "code",
      "execution_count": null,
      "metadata": {
        "id": "4DxHx1Sour84"
      },
      "outputs": [],
      "source": [
        "import pandas as pd\n",
        "from sklearn.feature_extraction.text import CountVectorizer\n",
        "from sklearn.cluster import KMeans"
      ]
    },
    {
      "cell_type": "code",
      "execution_count": null,
      "metadata": {
        "id": "EYEKe5Wyu9uq"
      },
      "outputs": [],
      "source": [
        "# Load the dataset into a pandas DataFrame\n",
        "df = pd.read_csv('/content/chatgpt1.csv')"
      ]
    },
    {
      "cell_type": "code",
      "execution_count": null,
      "metadata": {
        "id": "rd7UJGEEvEIz"
      },
      "outputs": [],
      "source": [
        "# Preprocess the text data\n",
        "tweet_text = df['Text'].values\n",
        "vectorizer = CountVectorizer(token_pattern=r'\\b#\\w+\\b')\n",
        "X = vectorizer.fit_transform(tweet_text)"
      ]
    },
    {
      "cell_type": "code",
      "execution_count": null,
      "metadata": {
        "colab": {
          "base_uri": "https://localhost:8080/",
          "height": 110
        },
        "id": "FGPps95lvG-2",
        "outputId": "c2f23863-9d6f-4554-8f67-ea2f029af6df"
      },
      "outputs": [
        {
          "name": "stderr",
          "output_type": "stream",
          "text": [
            "/usr/local/lib/python3.10/dist-packages/sklearn/cluster/_kmeans.py:870: FutureWarning: The default value of `n_init` will change from 10 to 'auto' in 1.4. Set the value of `n_init` explicitly to suppress the warning\n",
            "  warnings.warn(\n"
          ]
        },
        {
          "data": {
            "text/html": [
              "<style>#sk-container-id-1 {color: black;background-color: white;}#sk-container-id-1 pre{padding: 0;}#sk-container-id-1 div.sk-toggleable {background-color: white;}#sk-container-id-1 label.sk-toggleable__label {cursor: pointer;display: block;width: 100%;margin-bottom: 0;padding: 0.3em;box-sizing: border-box;text-align: center;}#sk-container-id-1 label.sk-toggleable__label-arrow:before {content: \"▸\";float: left;margin-right: 0.25em;color: #696969;}#sk-container-id-1 label.sk-toggleable__label-arrow:hover:before {color: black;}#sk-container-id-1 div.sk-estimator:hover label.sk-toggleable__label-arrow:before {color: black;}#sk-container-id-1 div.sk-toggleable__content {max-height: 0;max-width: 0;overflow: hidden;text-align: left;background-color: #f0f8ff;}#sk-container-id-1 div.sk-toggleable__content pre {margin: 0.2em;color: black;border-radius: 0.25em;background-color: #f0f8ff;}#sk-container-id-1 input.sk-toggleable__control:checked~div.sk-toggleable__content {max-height: 200px;max-width: 100%;overflow: auto;}#sk-container-id-1 input.sk-toggleable__control:checked~label.sk-toggleable__label-arrow:before {content: \"▾\";}#sk-container-id-1 div.sk-estimator input.sk-toggleable__control:checked~label.sk-toggleable__label {background-color: #d4ebff;}#sk-container-id-1 div.sk-label input.sk-toggleable__control:checked~label.sk-toggleable__label {background-color: #d4ebff;}#sk-container-id-1 input.sk-hidden--visually {border: 0;clip: rect(1px 1px 1px 1px);clip: rect(1px, 1px, 1px, 1px);height: 1px;margin: -1px;overflow: hidden;padding: 0;position: absolute;width: 1px;}#sk-container-id-1 div.sk-estimator {font-family: monospace;background-color: #f0f8ff;border: 1px dotted black;border-radius: 0.25em;box-sizing: border-box;margin-bottom: 0.5em;}#sk-container-id-1 div.sk-estimator:hover {background-color: #d4ebff;}#sk-container-id-1 div.sk-parallel-item::after {content: \"\";width: 100%;border-bottom: 1px solid gray;flex-grow: 1;}#sk-container-id-1 div.sk-label:hover label.sk-toggleable__label {background-color: #d4ebff;}#sk-container-id-1 div.sk-serial::before {content: \"\";position: absolute;border-left: 1px solid gray;box-sizing: border-box;top: 0;bottom: 0;left: 50%;z-index: 0;}#sk-container-id-1 div.sk-serial {display: flex;flex-direction: column;align-items: center;background-color: white;padding-right: 0.2em;padding-left: 0.2em;position: relative;}#sk-container-id-1 div.sk-item {position: relative;z-index: 1;}#sk-container-id-1 div.sk-parallel {display: flex;align-items: stretch;justify-content: center;background-color: white;position: relative;}#sk-container-id-1 div.sk-item::before, #sk-container-id-1 div.sk-parallel-item::before {content: \"\";position: absolute;border-left: 1px solid gray;box-sizing: border-box;top: 0;bottom: 0;left: 50%;z-index: -1;}#sk-container-id-1 div.sk-parallel-item {display: flex;flex-direction: column;z-index: 1;position: relative;background-color: white;}#sk-container-id-1 div.sk-parallel-item:first-child::after {align-self: flex-end;width: 50%;}#sk-container-id-1 div.sk-parallel-item:last-child::after {align-self: flex-start;width: 50%;}#sk-container-id-1 div.sk-parallel-item:only-child::after {width: 0;}#sk-container-id-1 div.sk-dashed-wrapped {border: 1px dashed gray;margin: 0 0.4em 0.5em 0.4em;box-sizing: border-box;padding-bottom: 0.4em;background-color: white;}#sk-container-id-1 div.sk-label label {font-family: monospace;font-weight: bold;display: inline-block;line-height: 1.2em;}#sk-container-id-1 div.sk-label-container {text-align: center;}#sk-container-id-1 div.sk-container {/* jupyter's `normalize.less` sets `[hidden] { display: none; }` but bootstrap.min.css set `[hidden] { display: none !important; }` so we also need the `!important` here to be able to override the default hidden behavior on the sphinx rendered scikit-learn.org. See: https://github.com/scikit-learn/scikit-learn/issues/21755 */display: inline-block !important;position: relative;}#sk-container-id-1 div.sk-text-repr-fallback {display: none;}</style><div id=\"sk-container-id-1\" class=\"sk-top-container\"><div class=\"sk-text-repr-fallback\"><pre>KMeans(n_clusters=5, random_state=42)</pre><b>In a Jupyter environment, please rerun this cell to show the HTML representation or trust the notebook. <br />On GitHub, the HTML representation is unable to render, please try loading this page with nbviewer.org.</b></div><div class=\"sk-container\" hidden><div class=\"sk-item\"><div class=\"sk-estimator sk-toggleable\"><input class=\"sk-toggleable__control sk-hidden--visually\" id=\"sk-estimator-id-1\" type=\"checkbox\" checked><label for=\"sk-estimator-id-1\" class=\"sk-toggleable__label sk-toggleable__label-arrow\">KMeans</label><div class=\"sk-toggleable__content\"><pre>KMeans(n_clusters=5, random_state=42)</pre></div></div></div></div></div>"
            ],
            "text/plain": [
              "KMeans(n_clusters=5, random_state=42)"
            ]
          },
          "execution_count": 5,
          "metadata": {},
          "output_type": "execute_result"
        }
      ],
      "source": [
        "# Apply K-Means clustering\n",
        "k = 5  # Number of clusters\n",
        "kmeans = KMeans(n_clusters=k, random_state=42)\n",
        "kmeans.fit(X)"
      ]
    },
    {
      "cell_type": "code",
      "execution_count": null,
      "metadata": {
        "id": "9WJRpHoLvJDJ"
      },
      "outputs": [],
      "source": [
        "# Get the cluster labels\n",
        "cluster_labels = kmeans.labels_"
      ]
    },
    {
      "cell_type": "code",
      "execution_count": null,
      "metadata": {
        "id": "iaZYLHhMvL2B"
      },
      "outputs": [],
      "source": [
        "# Get the feature (hashtag) names\n",
        "feature_names = vectorizer.get_feature_names_out()"
      ]
    },
    {
      "cell_type": "code",
      "execution_count": null,
      "metadata": {
        "id": "LyKDLybivPGs"
      },
      "outputs": [],
      "source": [
        "# Create a dataframe to store the hashtag frequency and cluster labels\n",
        "hashtag_df = pd.DataFrame(X.toarray(), columns=feature_names)\n",
        "hashtag_df['cluster_label'] = cluster_labels"
      ]
    },
    {
      "cell_type": "code",
      "execution_count": null,
      "metadata": {
        "id": "ltuKlRXLvSc8"
      },
      "outputs": [],
      "source": [
        "# Analyze the frequency of hashtags in each cluster\n",
        "cluster_frequency = hashtag_df.groupby('cluster_label').sum()"
      ]
    },
    {
      "cell_type": "code",
      "execution_count": null,
      "metadata": {
        "id": "-kH_-jrIvXB7"
      },
      "outputs": [],
      "source": [
        "# Analyze the co-occurrence of hashtags in each cluster\n",
        "co_occurrence_matrix = hashtag_df.drop('cluster_label', axis=1).T.dot(hashtag_df['cluster_label'].astype(str))"
      ]
    },
    {
      "cell_type": "code",
      "execution_count": null,
      "metadata": {
        "colab": {
          "base_uri": "https://localhost:8080/"
        },
        "id": "PGzguJJ6vZer",
        "outputId": "ebaa1b3d-ea25-402d-a6f0-18b3be73f34b"
      },
      "outputs": [
        {
          "name": "stdout",
          "output_type": "stream",
          "text": [
            "Hashtag Frequency in Each Cluster:\n",
            "               #ai  #bgrindia  #chatgpt  #gpt3  #nftcollecto  \\\n",
            "cluster_label                                                  \n",
            "0                0          1         0      0             0   \n",
            "1                0          0         1      1             0   \n",
            "2                2          0         0      0             0   \n",
            "3                0          0         0      0             0   \n",
            "4                0          0         0      0             1   \n",
            "\n",
            "               #segunajayiphotography  #الذكاء_الأصطناعي  \\\n",
            "cluster_label                                              \n",
            "0                                   0                  1   \n",
            "1                                   0                  0   \n",
            "2                                   0                  0   \n",
            "3                                   0                  0   \n",
            "4                                   1                  0   \n",
            "\n",
            "               #書いててnativelistのdisposeのタイミングがよくなかったのかエラーが出てたんだけど  #的游戏  \n",
            "cluster_label                                                           \n",
            "0                                                              1     0  \n",
            "1                                                              0     0  \n",
            "2                                                              0     0  \n",
            "3                                                              0     1  \n",
            "4                                                              0     0  \n"
          ]
        }
      ],
      "source": [
        "# Print the results\n",
        "print(\"Hashtag Frequency in Each Cluster:\")\n",
        "print(cluster_frequency)"
      ]
    },
    {
      "cell_type": "code",
      "execution_count": null,
      "metadata": {
        "colab": {
          "base_uri": "https://localhost:8080/"
        },
        "id": "xKcgM-H_veli",
        "outputId": "9315ae19-1077-44d0-9d98-08e1626e4d03"
      },
      "outputs": [
        {
          "name": "stdout",
          "output_type": "stream",
          "text": [
            "\n",
            "Hashtag Co-occurrence Matrix:\n",
            "#ai                                                  22\n",
            "#bgrindia                                             0\n",
            "#chatgpt                                              1\n",
            "#gpt3                                                 1\n",
            "#nftcollecto                                          4\n",
            "#segunajayiphotography                                4\n",
            "#الذكاء_الأصطناعي                                     0\n",
            "#書いててnativelistのdisposeのタイミングがよくなかったのかエラーが出てたんだけど     0\n",
            "#的游戏                                                  3\n",
            "dtype: object\n"
          ]
        }
      ],
      "source": [
        "print(\"\\nHashtag Co-occurrence Matrix:\")\n",
        "print(co_occurrence_matrix)"
      ]
    },
    {
      "cell_type": "markdown",
      "metadata": {
        "id": "wA6odOKCq925"
      },
      "source": [
        "3. Clustering\n"
      ]
    },
    {
      "cell_type": "code",
      "execution_count": null,
      "metadata": {
        "id": "bN3KVnGDrG6B"
      },
      "outputs": [],
      "source": [
        "import pandas as pd\n",
        "from sklearn.feature_extraction.text import TfidfVectorizer\n",
        "from sklearn.cluster import KMeans\n",
        "from sklearn.metrics import silhouette_score\n",
        "import matplotlib.pyplot as plt"
      ]
    },
    {
      "cell_type": "code",
      "execution_count": null,
      "metadata": {
        "id": "QxxbwOm3rVVf"
      },
      "outputs": [],
      "source": [
        "# Load the dataset into a pandas DataFrame\n",
        "df = pd.read_csv('/content/chatgpt1.csv')"
      ]
    },
    {
      "cell_type": "code",
      "execution_count": null,
      "metadata": {
        "id": "ysIDl0TmrcrS"
      },
      "outputs": [],
      "source": [
        "# Extract tweet text\n",
        "tweets = df['Text']"
      ]
    },
    {
      "cell_type": "code",
      "execution_count": null,
      "metadata": {
        "id": "S1lpBvK3rgHP"
      },
      "outputs": [],
      "source": [
        "# Vectorize the tweet text using TF-IDF\n",
        "vectorizer = TfidfVectorizer()\n",
        "tweet_vectorized = vectorizer.fit_transform(tweets)"
      ]
    },
    {
      "cell_type": "code",
      "execution_count": null,
      "metadata": {
        "colab": {
          "background_save": true,
          "base_uri": "https://localhost:8080/"
        },
        "id": "YP9liFiZriP0",
        "outputId": "716856a2-ea3e-4782-9104-5fd9adbf021e"
      },
      "outputs": [
        {
          "name": "stderr",
          "output_type": "stream",
          "text": [
            "/usr/local/lib/python3.10/dist-packages/sklearn/cluster/_kmeans.py:870: FutureWarning: The default value of `n_init` will change from 10 to 'auto' in 1.4. Set the value of `n_init` explicitly to suppress the warning\n",
            "  warnings.warn(\n",
            "/usr/local/lib/python3.10/dist-packages/sklearn/cluster/_kmeans.py:870: FutureWarning: The default value of `n_init` will change from 10 to 'auto' in 1.4. Set the value of `n_init` explicitly to suppress the warning\n",
            "  warnings.warn(\n",
            "/usr/local/lib/python3.10/dist-packages/sklearn/cluster/_kmeans.py:870: FutureWarning: The default value of `n_init` will change from 10 to 'auto' in 1.4. Set the value of `n_init` explicitly to suppress the warning\n",
            "  warnings.warn(\n",
            "/usr/local/lib/python3.10/dist-packages/sklearn/cluster/_kmeans.py:870: FutureWarning: The default value of `n_init` will change from 10 to 'auto' in 1.4. Set the value of `n_init` explicitly to suppress the warning\n",
            "  warnings.warn(\n",
            "/usr/local/lib/python3.10/dist-packages/sklearn/cluster/_kmeans.py:870: FutureWarning: The default value of `n_init` will change from 10 to 'auto' in 1.4. Set the value of `n_init` explicitly to suppress the warning\n",
            "  warnings.warn(\n",
            "/usr/local/lib/python3.10/dist-packages/sklearn/cluster/_kmeans.py:870: FutureWarning: The default value of `n_init` will change from 10 to 'auto' in 1.4. Set the value of `n_init` explicitly to suppress the warning\n",
            "  warnings.warn(\n",
            "/usr/local/lib/python3.10/dist-packages/sklearn/cluster/_kmeans.py:870: FutureWarning: The default value of `n_init` will change from 10 to 'auto' in 1.4. Set the value of `n_init` explicitly to suppress the warning\n",
            "  warnings.warn(\n",
            "/usr/local/lib/python3.10/dist-packages/sklearn/cluster/_kmeans.py:870: FutureWarning: The default value of `n_init` will change from 10 to 'auto' in 1.4. Set the value of `n_init` explicitly to suppress the warning\n",
            "  warnings.warn(\n",
            "/usr/local/lib/python3.10/dist-packages/sklearn/cluster/_kmeans.py:870: FutureWarning: The default value of `n_init` will change from 10 to 'auto' in 1.4. Set the value of `n_init` explicitly to suppress the warning\n",
            "  warnings.warn(\n"
          ]
        },
        {
          "data": {
            "image/png": "[encoded data removed]",
            "text/plain": [
              "<Figure size 640x480 with 1 Axes>"
            ]
          },
          "metadata": {},
          "output_type": "display_data"
        }
      ],
      "source": [
        "# Apply K-Means clustering\n",
        "k_values = range(2, 11)  # Range of cluster numbers to try\n",
        "silhouette_scores = []  # Silhouette scores\n",
        "\n",
        "for k in k_values:\n",
        "    kmeans = KMeans(n_clusters=k, random_state=42)\n",
        "    kmeans.fit(tweet_vectorized)\n",
        "    cluster_labels = kmeans.labels_\n",
        "    silhouette_avg = silhouette_score(tweet_vectorized, cluster_labels)\n",
        "    silhouette_scores.append(silhouette_avg)\n",
        "\n",
        "# Plot the elbow curve\n",
        "plt.plot(k_values, silhouette_scores, marker='o')\n",
        "plt.xlabel('Number of Clusters')\n",
        "plt.ylabel('Silhouette Score')\n",
        "plt.title('Silhouette Score vs. Number of Clusters')\n",
        "plt.show()"
      ]
    },
    {
      "cell_type": "code",
      "execution_count": null,
      "metadata": {
        "id": "tAd2-7jLrm9_"
      },
      "outputs": [],
      "source": [
        "# Choose the optimal number of clusters based on the elbow plot\n",
        "optimal_k = silhouette_scores.index(max(silhouette_scores)) + 2\n",
        "print('Optimal number of clusters:', optimal_k)"
      ]
    },
    {
      "cell_type": "code",
      "execution_count": null,
      "metadata": {
        "id": "cgKCgEdOrsRs"
      },
      "outputs": [],
      "source": [
        "# Fit K-Means with the optimal number of clusters\n",
        "kmeans = KMeans(n_clusters=optimal_k, random_state=42)\n",
        "kmeans.fit(tweet_vectorized)"
      ]
    },
    {
      "cell_type": "code",
      "execution_count": null,
      "metadata": {
        "id": "WvmDy9RcruhO"
      },
      "outputs": [],
      "source": [
        "# Get the cluster labels for each tweet\n",
        "cluster_labels = kmeans.labels_"
      ]
    },
    {
      "cell_type": "code",
      "execution_count": null,
      "metadata": {
        "id": "CH8miGGmrxOI"
      },
      "outputs": [],
      "source": [
        "# Print cluster labels for each tweet\n",
        "for i, tweet in enumerate(tweets):\n",
        "    print(f'Tweet: {tweet}\\t Cluster: {cluster_labels[i]}')"
      ]
    },
    {
      "cell_type": "markdown",
      "metadata": {
        "id": "2_QedLCO0dCJ"
      },
      "source": [
        "4.Engagement Prediction"
      ]
    },
    {
      "cell_type": "code",
      "execution_count": null,
      "metadata": {
        "id": "xju3hSen0hC6"
      },
      "outputs": [],
      "source": [
        "# Calculate average engagement metrics\n",
        "avg_retweets = df['RetweetCount'].mean()\n",
        "avg_likes = df['LikeCount'].mean()\n",
        "avg_replies = df['ReplyCount'].mean()\n",
        "\n",
        "print(f'Average Retweets: {avg_retweets}')\n",
        "print(f'Average Likes: {avg_likes}')\n",
        "print(f'Average Replies: {avg_replies}')"
      ]
    },
    {
      "cell_type": "markdown",
      "metadata": {
        "id": "XckUi2woxmEB"
      },
      "source": [
        "5. Hashtag **Analysis**"
      ]
    },
    {
      "cell_type": "code",
      "execution_count": null,
      "metadata": {
        "id": "1UZjaOg1xq46"
      },
      "outputs": [],
      "source": [
        "import re\n",
        "\n",
        "df['Hashtags'] = df['Text'].apply(lambda x: re.findall(r'#(\\w+)', x))"
      ]
    },
    {
      "cell_type": "code",
      "execution_count": null,
      "metadata": {
        "id": "mM1H8IEzyaKe"
      },
      "outputs": [],
      "source": [
        "from collections import Counter\n",
        "\n",
        "hashtags_list = df['Hashtags'].sum()\n",
        "hashtags_counts = Counter(hashtags_list)\n",
        "top_n = 10 \n",
        "\n",
        "top_hashtags = hashtags_counts.most_common(top_n)\n",
        "for hashtag, count in top_hashtags:\n",
        "    print(f'{hashtag}: {count}')"
      ]
    },
    {
      "cell_type": "code",
      "execution_count": null,
      "metadata": {
        "id": "u6bGuYCly4un"
      },
      "outputs": [],
      "source": [
        "from itertools import combinations\n",
        "from collections import defaultdict\n",
        "\n",
        "cooccurrence_counts = defaultdict(int)\n",
        "window_size = 2  \n",
        "\n",
        "for hashtags in df['Hashtags']:\n",
        "    for pair in combinations(hashtags, 2):\n",
        "        cooccurrence_counts[tuple(sorted(pair))] += 1\n",
        "\n",
        "top_n_cooccurrence = 10 \n",
        "\n",
        "top_cooccurrence = dict(sorted(cooccurrence_counts.items(), key=lambda x: x[1], reverse=True)[:top_n_cooccurrence])\n",
        "for pair, count in top_cooccurrence.items():\n",
        "    print(f'{pair}: {count}')\n"
      ]
    }
  ],
  "metadata": {
    "accelerator": "GPU",
    "colab": {
      "provenance": []
    },
    "gpuClass": "standard",
    "kernelspec": {
      "display_name": "Python 3",
      "name": "python3"
    },
    "language_info": {
      "name": "python"
    }
  },
  "nbformat": 4,
  "nbformat_minor": 0
}